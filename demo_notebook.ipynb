{
 "cells": [
  {
   "cell_type": "markdown",
   "metadata": {},
   "source": [
    "# Demo Notebook for RAG-PDF-QA\n",
    "This notebook demonstrates extracting text from PDFs, building embeddings, and querying with a question."
   ]
  },
  {
   "cell_type": "code",
   "metadata": {},
   "source": [
    "# Install dependencies if not already done\n",
    "!pip install -r requirements.txt"
   ],
   "execution_count": null,
   "outputs": []
  },
  {
   "cell_type": "code",
   "metadata": {},
   "source": [
    "# Import modules\n",
    "from ingest import build_index\n",
    "from retriever import Retriever\n",
    "from generator import Generator\n",
    "\n",
    "# Build index (if not done already)\n",
    "build_index([\"sample_pdfs/sample.pdf\"])"
   ],
   "execution_count": null,
   "outputs": []
  },
  {
   "cell_type": "code",
   "metadata": {},
   "source": [
    "# Initialize retriever and generator\n",
    "r = Retriever()\n",
    "g = Generator(r)"
   ],
   "execution_count": null,
   "outputs": []
  },
  {
   "cell_type": "code",
   "metadata": {},
   "source": [
    "# Ask a question\n",
    "answer = g.generate(\"What is in the PDF?\", top_k=2)\n",
    "print(answer)"
   ],
   "execution_count": null,
   "outputs": []
  }
 ],
 "metadata": {
  "kernelspec": {
   "display_name": "Python 3",
   "language": "python",
   "name": "python3"
  },
  "language_info": {
   "name": "python",
   "version": "3.10"
  }
 },
 "nbformat": 4,
 "nbformat_minor": 5
}
